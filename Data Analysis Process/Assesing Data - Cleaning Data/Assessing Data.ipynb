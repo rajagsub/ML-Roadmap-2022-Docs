{
 "cells": [
  {
   "cell_type": "markdown",
   "metadata": {},
   "source": [
    "## Assessing Data\n",
    "In this step, the data is to be understood more deeply, before implementing methods to clean it , you will definitely need to have a better idea about what the data is about"
   ]
  },
  {
   "cell_type": "markdown",
   "metadata": {},
   "source": [
    "## Types of Unclean data\n",
    "1. Dirty Data(data with quality issues):\n",
    "dirty data. also konown as low quality data has content issues.\n",
    "\n",
    "2. Messy data (data with tidiness issues)\n",
    "messy data. also known as untidy data.untidy data has structural issues\n"
   ]
  },
  {
   "cell_type": "markdown",
   "metadata": {},
   "source": [
    "## 1. Dirty Data\n",
    "\n",
    "1. Duplicated data\n",
    "2. Missing data\n",
    "3. Corrupt data\n",
    "4. inaacurate data"
   ]
  },
  {
   "cell_type": "markdown",
   "metadata": {},
   "source": [
    "## 2. Messy Data\n",
    "\n",
    "Tiday data has following property :\n",
    "- Each variable forms a columns\n",
    "- Each observation forms a row\n",
    "- Each observation unit forms a table\n",
    "\n",
    "if data voilates any one above rule it is known as untidy data.\n"
   ]
  },
  {
   "cell_type": "markdown",
   "metadata": {},
   "source": [
    "## Types of Assessment\n",
    "1. Manual \n",
    "2. programming - by using pandas functions such as info(), describe() or sample()"
   ]
  },
  {
   "cell_type": "markdown",
   "metadata": {},
   "source": [
    "## Steps in Assessment\n",
    "1. Discover \n",
    "2. Document"
   ]
  },
  {
   "cell_type": "markdown",
   "metadata": {},
   "source": [
    "##  Data Quality Dimensions\n",
    "1. compleness issue - incomplete data\n",
    "2. Validity issues - impossible data\n",
    "3. Accuracy issues - e.g. height 1cm\n",
    "4. inconsistancy issues - e.g. Ny, Newyork"
   ]
  },
  {
   "cell_type": "markdown",
   "metadata": {},
   "source": [
    "#  Manaul Assesment"
   ]
  },
  {
   "cell_type": "markdown",
   "metadata": {},
   "source": [
    "### Quality Related Issue:\n",
    "\n",
    "[Completeness, Validity,Accurary, Cinsustency]\n",
    "\n",
    "#####  'Dataset Name' \n",
    "- <Column> Missing values\n",
    "- Zip code column is stored in decimal columns\n",
    "- Certain zip codes are of 4 digits\n",
    "- FOr State Column state cols sometime full names are used othwervise its abbreviation\n",
    "- check for the columns is in lower case\n",
    "- incorrect datatype \n",
    "- Inconsistant way of storing phone numbers.\n",
    "- Duplicated data and not useful data in Dataset.\n",
    "- Use of dashes instead of Nan."
   ]
  },
  {
   "cell_type": "markdown",
   "metadata": {},
   "source": [
    "### Tidiness Related Issues:\n",
    "\n",
    "##### -Dataset Name-\n",
    "- every variable should hold single column, not combined\n",
    "- phone and email together in one col i.e contact\n",
    "\n"
   ]
  },
  {
   "cell_type": "markdown",
   "metadata": {},
   "source": [
    "# Programming Assesment"
   ]
  },
  {
   "cell_type": "markdown",
   "metadata": {},
   "source": [
    "### info() - shows datatypes, counts,memory useage\n",
    "### isnull() - gives the null value counts\n",
    "### astype() - convert the types of columns if req\n",
    "### describe() - summary stats of numerical columns.\n",
    "### sample(n) - gets u the random samples from the dataset.\n",
    "### duplicated() - gives u result of duplicated rows.\n",
    "### "
   ]
  },
  {
   "cell_type": "code",
   "execution_count": null,
   "metadata": {},
   "outputs": [],
   "source": []
  }
 ],
 "metadata": {
  "kernelspec": {
   "display_name": "Python 3",
   "language": "python",
   "name": "python3"
  },
  "language_info": {
   "codemirror_mode": {
    "name": "ipython",
    "version": 3
   },
   "file_extension": ".py",
   "mimetype": "text/x-python",
   "name": "python",
   "nbconvert_exporter": "python",
   "pygments_lexer": "ipython3",
   "version": "3.8.5"
  }
 },
 "nbformat": 4,
 "nbformat_minor": 4
}
